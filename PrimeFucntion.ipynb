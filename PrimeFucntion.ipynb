{
  "cells": [
    {
      "cell_type": "markdown",
      "metadata": {
        "id": "view-in-github",
        "colab_type": "text"
      },
      "source": [
        "<a href=\"https://colab.research.google.com/github/GayathriSBhat/python/blob/main/PrimeFucntion.ipynb\" target=\"_parent\"><img src=\"https://colab.research.google.com/assets/colab-badge.svg\" alt=\"Open In Colab\"/></a>"
      ]
    },
    {
      "cell_type": "markdown",
      "metadata": {
        "id": "aDI1KSBJfcRn"
      },
      "source": [
        "Function to print Prime Numbers"
      ]
    },
    {
      "cell_type": "code",
      "execution_count": 5,
      "metadata": {
        "vscode": {
          "languageId": "plaintext"
        },
        "id": "ZnpsgybXfcRq",
        "outputId": "81c2409b-46ee-4861-c331-df98d3301de4",
        "colab": {
          "base_uri": "https://localhost:8080/"
        }
      },
      "outputs": [
        {
          "output_type": "stream",
          "name": "stdout",
          "text": [
            "Prime\n"
          ]
        }
      ],
      "source": [
        "def isPrime(num):\n",
        "    if num==2:\n",
        "        print(\"{} is Prime\".format(num))\n",
        "    for i in range(3,num,2):\n",
        "        if num%i==0:\n",
        "            print(\"{} is not Prime\".format(num))\n",
        "            break\n",
        "        else:\n",
        "            print(\"Prime\")\n",
        "isPrime(5)"
      ]
    },
    {
      "cell_type": "code",
      "source": [],
      "metadata": {
        "id": "GnG622jXhCal"
      },
      "execution_count": null,
      "outputs": []
    }
  ],
  "metadata": {
    "language_info": {
      "name": "python"
    },
    "colab": {
      "provenance": [],
      "include_colab_link": true
    },
    "kernelspec": {
      "name": "python3",
      "display_name": "Python 3"
    }
  },
  "nbformat": 4,
  "nbformat_minor": 0
}