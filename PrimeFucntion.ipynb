{
  "cells": [
    {
      "cell_type": "markdown",
      "metadata": {
        "id": "aDI1KSBJfcRn"
      },
      "source": [
        "Function to print Prime Numbers"
      ]
    },
    {
      "cell_type": "code",
      "execution_count": 5,
      "metadata": {
        "vscode": {
          "languageId": "plaintext"
        },
        "colab": {
          "base_uri": "https://localhost:8080/"
        },
        "id": "ZnpsgybXfcRq",
        "outputId": "81c2409b-46ee-4861-c331-df98d3301de4"
      },
      "outputs": [
        {
          "output_type": "stream",
          "name": "stdout",
          "text": [
            "Prime\n"
          ]
        }
      ],
      "source": [
        "def isPrime(num):\n",
        "    if num==2:\n",
        "        print(\"{} is Prime\".format(num))\n",
        "    for i in range(3,num,2):\n",
        "        if num%i==0:\n",
        "            print(\"{} is not Prime\".format(num))\n",
        "            break\n",
        "        else:\n",
        "            print(\"Prime\")\n",
        "isPrime(5)"
      ]
    },
    {
      "cell_type": "markdown",
      "source": [
        "Map function - used for mapping a list to a functon"
      ],
      "metadata": {
        "id": "bOAuoPpiiQxC"
      }
    },
    {
      "cell_type": "code",
      "source": [
        "li=[1,2,3,4,5]\n",
        "def square(num):\n",
        "  return num**2\n",
        "#After mapping, to print we need to iterate through every element of the list\n",
        "#list func is used to print this as a list\n",
        "list(map(square,li))\n"
      ],
      "metadata": {
        "id": "1hbf2W1uiQW3",
        "outputId": "ac0281be-c0ca-4ce4-c037-c92d82d1a742",
        "colab": {
          "base_uri": "https://localhost:8080/"
        }
      },
      "execution_count": 7,
      "outputs": [
        {
          "output_type": "execute_result",
          "data": {
            "text/plain": [
              "[1, 4, 9, 16, 25]"
            ]
          },
          "metadata": {},
          "execution_count": 7
        }
      ]
    }
  ],
  "metadata": {
    "language_info": {
      "name": "python"
    },
    "colab": {
      "provenance": []
    },
    "kernelspec": {
      "name": "python3",
      "display_name": "Python 3"
    }
  },
  "nbformat": 4,
  "nbformat_minor": 0
}