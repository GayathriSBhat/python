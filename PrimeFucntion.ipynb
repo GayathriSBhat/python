{
  "cells": [
    {
      "cell_type": "markdown",
      "metadata": {
        "id": "aDI1KSBJfcRn"
      },
      "source": [
        "Function to print Prime Numbers"
      ]
    },
    {
      "cell_type": "code",
      "execution_count": 5,
      "metadata": {
        "vscode": {
          "languageId": "plaintext"
        },
        "colab": {
          "base_uri": "https://localhost:8080/"
        },
        "id": "ZnpsgybXfcRq",
        "outputId": "81c2409b-46ee-4861-c331-df98d3301de4"
      },
      "outputs": [
        {
          "output_type": "stream",
          "name": "stdout",
          "text": [
            "Prime\n"
          ]
        }
      ],
      "source": [
        "def isPrime(num):\n",
        "    if num==2:\n",
        "        print(\"{} is Prime\".format(num))\n",
        "    for i in range(3,num,2):\n",
        "        if num%i==0:\n",
        "            print(\"{} is not Prime\".format(num))\n",
        "            break\n",
        "        else:\n",
        "            print(\"Prime\")\n",
        "isPrime(5)"
      ]
    },
    {
      "cell_type": "markdown",
      "source": [
        "Map function - used for mapping a list to a functon"
      ],
      "metadata": {
        "id": "bOAuoPpiiQxC"
      }
    },
    {
      "cell_type": "code",
      "source": [
        "li=[1,2,3,4,5]\n",
        "def square(num):\n",
        "  return num**2\n",
        "#After mapping, to print we need to iterate through every element of the list\n",
        "#list func is used to print this as a list\n",
        "list(map(square,li))\n"
      ],
      "metadata": {
        "colab": {
          "base_uri": "https://localhost:8080/"
        },
        "id": "1hbf2W1uiQW3",
        "outputId": "ac0281be-c0ca-4ce4-c037-c92d82d1a742"
      },
      "execution_count": 7,
      "outputs": [
        {
          "output_type": "execute_result",
          "data": {
            "text/plain": [
              "[1, 4, 9, 16, 25]"
            ]
          },
          "metadata": {},
          "execution_count": 7
        }
      ]
    },
    {
      "cell_type": "markdown",
      "source": [
        "filter func is used for boolean results -\n",
        "problem - check if number is even"
      ],
      "metadata": {
        "id": "JjwjiZonlwyH"
      }
    },
    {
      "cell_type": "code",
      "source": [
        "def isEven(num):\n",
        "  return num%2==0\n",
        "list(filter(isEven,li))"
      ],
      "metadata": {
        "id": "iOKtTZPZlwak",
        "outputId": "6b769d6e-5827-4f6a-aca1-52daa8d58522",
        "colab": {
          "base_uri": "https://localhost:8080/"
        }
      },
      "execution_count": 11,
      "outputs": [
        {
          "output_type": "execute_result",
          "data": {
            "text/plain": [
              "[2, 4]"
            ]
          },
          "metadata": {},
          "execution_count": 11
        }
      ]
    },
    {
      "cell_type": "markdown",
      "source": [
        "A Lambda function is also called as ana anonymous funtion because it is used only once in the entire code"
      ],
      "metadata": {
        "id": "-H5SZwYPpix5"
      }
    },
    {
      "cell_type": "code",
      "source": [
        "#Example for lambda expression\n",
        "#Note that the expression is on the right side of the colon(:)\n",
        "\n",
        "square= lambda x : x**2\n",
        "square(5)"
      ],
      "metadata": {
        "id": "ddyiD4PSpumb",
        "outputId": "f1469e33-6d90-41b7-bcb7-49504f660b85",
        "colab": {
          "base_uri": "https://localhost:8080/"
        }
      },
      "execution_count": 18,
      "outputs": [
        {
          "output_type": "execute_result",
          "data": {
            "text/plain": [
              "25"
            ]
          },
          "metadata": {},
          "execution_count": 18
        }
      ]
    }
  ],
  "metadata": {
    "language_info": {
      "name": "python"
    },
    "colab": {
      "provenance": []
    },
    "kernelspec": {
      "name": "python3",
      "display_name": "Python 3"
    }
  },
  "nbformat": 4,
  "nbformat_minor": 0
}