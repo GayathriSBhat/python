{
  "nbformat": 4,
  "nbformat_minor": 0,
  "metadata": {
    "colab": {
      "provenance": [],
      "authorship_tag": "ABX9TyNIDrdr0mqOeULhhJQawDQr",
      "include_colab_link": true
    },
    "kernelspec": {
      "name": "python3",
      "display_name": "Python 3"
    },
    "language_info": {
      "name": "python"
    }
  },
  "cells": [
    {
      "cell_type": "markdown",
      "metadata": {
        "id": "view-in-github",
        "colab_type": "text"
      },
      "source": [
        "<a href=\"https://colab.research.google.com/github/GayathriSBhat/python/blob/main/Untitled0.ipynb\" target=\"_parent\"><img src=\"https://colab.research.google.com/assets/colab-badge.svg\" alt=\"Open In Colab\"/></a>"
      ]
    },
    {
      "cell_type": "code",
      "execution_count": null,
      "metadata": {
        "id": "bhpWaBuM-ZUm",
        "colab": {
          "base_uri": "https://localhost:8080/"
        },
        "outputId": "c3d4fbf7-5fa3-4f77-fe14-3dd119ff6c3c"
      },
      "outputs": [
        {
          "output_type": "stream",
          "name": "stdout",
          "text": [
            "Original list is: 1 2 3 4 5 \r\n",
            "modified list after using setitem() is 1 2 3 18 5 \r\n",
            "the list after deleting items using delitem() is: 1 3 18 5 \r\n",
            "the element at 3rd position is: 18\n"
          ]
        }
      ],
      "source": [
        "# modifying list using setitem(), getitem() and delitem()\n",
        "import operator\n",
        "\n",
        "li=[1,2,3,4,5]\n",
        "\n",
        "print(\"Original list is:\",end=\" \")\n",
        "for i in range(0,len(li)):\n",
        "  print(li[i], end=\" \")\n",
        "print(\"\\r\")\n",
        "# adding a value at 4th position\n",
        "operator.setitem(li,3,18)\n",
        "print(\"modified list after using setitem() is\", end=\" \")\n",
        "for i in range(0,len(li)):\n",
        "  print(li[i],end=\" \")\n",
        "print('\\r')\n",
        "# deleting items using delitem() from 2nd position\n",
        "operator.delitem(li,1)\n",
        "print('the list after deleting items using delitem() is:',end=\" \")\n",
        "for i in range(0,len(li)):\n",
        "    print(li[i], end=\" \")\n",
        "print('\\r')\n",
        "# displaying value of an element at 3rd position through getitem()\n",
        "print('the element at 3rd position is:',operator.getitem(li,2))"
      ]
    },
    {
      "cell_type": "markdown",
      "source": [],
      "metadata": {
        "id": "6ylRq7M-iL6F"
      }
    },
    {
      "cell_type": "code",
      "source": [
        "# function to manipulate Python list using setitem, delitem and getitem with slice for fetching a range\n",
        "import operator\n",
        "li=[1,2,3,4,5]\n",
        "print('The original list is: ',end=' ')\n",
        "for i in range(0,len(li)):\n",
        "  print(li[i],end=' ')\n",
        "print('\\r')\n",
        "# setting a range of values\n",
        "operator.setitem(li,slice(4,4), [6,7,8,9])\n",
        "print('The lsit after setting new range is: ',end=' ')\n",
        "for i in range(0,len(li)):\n",
        "   print(li[i],end=' ')\n",
        "print('\\r')\n",
        "# deleting a range of  values\n",
        "operator.delitem(li,slice(4,len(li)-1))\n",
        "print('list after deleting the values: ',end=' ')\n",
        "for i in range(0,len(li)):\n",
        "  print(li[i],end=' ')\n",
        "print('\\r')\n",
        "# fetching a range of values\n",
        "print('fetching the elements from second to fourth position:',end=' ')\n",
        "print(operator.getitem(li,slice(1,4)))"
      ],
      "metadata": {
        "colab": {
          "base_uri": "https://localhost:8080/"
        },
        "id": "OtdsiXEE5ddj",
        "outputId": "3254e779-b985-4713-bc6c-311042d710e6"
      },
      "execution_count": null,
      "outputs": [
        {
          "output_type": "stream",
          "name": "stdout",
          "text": [
            "The original list is:  1 2 3 4 5 \r\n",
            "The lsit after setting new range is:  1 2 3 4 6 7 8 9 5 \r\n",
            "list after deleting the values:  1 2 3 4 5 \r\n",
            "fetching the elements from second to fourth position: [2, 3, 4]\n"
          ]
        }
      ]
    },
    {
      "cell_type": "code",
      "source": [
        "#demonstration of logical operators in python\n",
        "import operator\n",
        "a=1\n",
        "print(operator.invert(a))"
      ],
      "metadata": {
        "colab": {
          "base_uri": "https://localhost:8080/"
        },
        "id": "ggyr13apEEuD",
        "outputId": "ce0c2987-1ab0-4f66-e2a2-e2709b14e877"
      },
      "execution_count": null,
      "outputs": [
        {
          "output_type": "stream",
          "name": "stdout",
          "text": [
            "-2\n"
          ]
        }
      ]
    },
    {
      "cell_type": "code",
      "source": [
        "# demonstration of is and ==\n",
        "li1=[]\n",
        "li2=[]\n",
        "if(li1==li2):print('true')\n",
        "else:print('false')\n",
        "if(li1 is li2):print('true')\n",
        "else:print('false')"
      ],
      "metadata": {
        "colab": {
          "base_uri": "https://localhost:8080/"
        },
        "id": "yj1FaWt5IOfG",
        "outputId": "3a607ef0-4a3c-4452-c864-f3b1b8360918"
      },
      "execution_count": null,
      "outputs": [
        {
          "output_type": "stream",
          "name": "stdout",
          "text": [
            "true\n",
            "false\n"
          ]
        }
      ]
    },
    {
      "cell_type": "code",
      "source": [
        "# set\n",
        "k={1,1}\n",
        "print(k)"
      ],
      "metadata": {
        "colab": {
          "base_uri": "https://localhost:8080/"
        },
        "id": "hHBkUZrCPGHT",
        "outputId": "c2c46405-734e-4845-e476-f79635c909dc"
      },
      "execution_count": null,
      "outputs": [
        {
          "output_type": "stream",
          "name": "stdout",
          "text": [
            "{1}\n"
          ]
        }
      ]
    },
    {
      "cell_type": "code",
      "source": [
        "# String slicing\n",
        "string1='ASTRING'\n",
        "s1=slice(3)#defining what kind of slice we want\n",
        "s2=slice(1,5,2)\n",
        "s3=slice(-1,-12,-2)\n",
        "print(string1[s1])#using the slice on string\n",
        "print(string1[s2])\n",
        "print(string1[s3])"
      ],
      "metadata": {
        "colab": {
          "base_uri": "https://localhost:8080/"
        },
        "id": "x2r4x4FCuzQ6",
        "outputId": "f659c61d-1033-44a9-81b5-69f6510d6450"
      },
      "execution_count": null,
      "outputs": [
        {
          "output_type": "stream",
          "name": "stdout",
          "text": [
            "AST\n",
            "SR\n",
            "GITA\n"
          ]
        }
      ]
    },
    {
      "cell_type": "markdown",
      "source": [
        "String Reversal"
      ],
      "metadata": {
        "id": "yokNbOtl9fQ5"
      }
    },
    {
      "cell_type": "code",
      "source": [
        "# method 1 :  using loop - Time Complexity: O(n), Auxiliary Space:  O(1)\n",
        "def reverse(s):\n",
        "  str=\" \"\n",
        "  for i in s:\n",
        "    str = i + str\n",
        "  return str\n",
        "\n",
        "s='GEEKS FOR GEEKS'\n",
        "print('Original String:',end=' ')\n",
        "print(s)\n",
        "print('\\r')\n",
        "print('Reversed String: ',end=' ')\n",
        "print(reverse(s))"
      ],
      "metadata": {
        "colab": {
          "base_uri": "https://localhost:8080/"
        },
        "id": "XzYWSc6A7Cp3",
        "outputId": "dc746f0c-8ddd-4c19-f173-ee8f46386799"
      },
      "execution_count": null,
      "outputs": [
        {
          "output_type": "stream",
          "name": "stdout",
          "text": [
            "Original String: GEEKS FOR GEEKS\n",
            "\r\n",
            "Reversed String:  SKEEG ROF SKEEG \n"
          ]
        }
      ]
    },
    {
      "cell_type": "code",
      "source": [
        "# method 2 : using recurssion - Time Complexity: O(n), Auxiliary Space:  O(n)\n",
        "def reverse(s):\n",
        "  if len(s)==0:\n",
        "    return s\n",
        "  else:\n",
        "    return reverse(s[1:])+s[0]\n",
        "\n",
        "s='GEEKS FOR GEEKS'\n",
        "\n",
        "print('original string: ',s)\n",
        "print('Reversed String: ',reverse(s))"
      ],
      "metadata": {
        "colab": {
          "base_uri": "https://localhost:8080/"
        },
        "id": "DUl_DFGK9acy",
        "outputId": "f7399310-cbdf-47be-8744-f0a592949bf3"
      },
      "execution_count": null,
      "outputs": [
        {
          "output_type": "stream",
          "name": "stdout",
          "text": [
            "original string:  GEEKS FOR GEEKS\n",
            "Reversed String:  SKEEG ROF SKEEG\n"
          ]
        }
      ]
    },
    {
      "cell_type": "code",
      "source": [
        "'''method 3:  reversing string using stack: Time Complexity: O(n), Auxiliary Space:  O(1) '''\n",
        "# creating a stack\n",
        "def createStack():\n",
        "  stack=[]\n",
        "  return stack\n",
        "# determine size of stack\n",
        "def size(stack):\n",
        "  return len(stack)\n",
        "# check if stack is empty\n",
        "def isEmpty(stack):\n",
        "  '''returns boolean values'''\n",
        "  if size(stack)==0:\n",
        "    return True\n",
        "# push operation\n",
        "def push(stack,item):\n",
        "  stack.append(item)\n",
        "# pop operation\n",
        "def pop(stack):\n",
        "  if isEmpty(stack):\n",
        "    return\n",
        "  return stack.pop()\n",
        "# reverse string\n",
        "def reverse(string):\n",
        "  n=len(string)\n",
        "  stack=createStack()\n",
        "  for i in range(0,n,1):\n",
        "    push(stack,string[i])\n",
        "  string=''\n",
        "  for i in range(0,n,1):\n",
        "    string+=pop(stack)\n",
        "  return string\n",
        "\n",
        "s='GEEKS FOR GEEKS'\n",
        "print('original string',s)\n",
        "print('Reversed String',reverse(s))"
      ],
      "metadata": {
        "colab": {
          "base_uri": "https://localhost:8080/"
        },
        "id": "MknNljItB1T4",
        "outputId": "2e0eb993-f448-4759-a7ee-f2fb21022908"
      },
      "execution_count": null,
      "outputs": [
        {
          "output_type": "stream",
          "name": "stdout",
          "text": [
            "original string GEEKS FOR GEEKS\n",
            "Reversed String SKEEG ROF SKEEG\n"
          ]
        }
      ]
    },
    {
      "cell_type": "code",
      "source": [
        "import re\n",
        "\n",
        "matchPattern = re.search(r'portal','geeks for geeks is an educational portal')#search method is used to find single value\n",
        "print(matchPattern)\n",
        "print(matchPattern.group())\n",
        "print('Start Index:',matchPattern.start())\n",
        "print('stop index',matchPattern.end())\n",
        "\n",
        "# Character class\n",
        "print(re.findall(r'[Gg]eeks','Geeks for geeks'))#finadall method is used to find multiple values"
      ],
      "metadata": {
        "colab": {
          "base_uri": "https://localhost:8080/"
        },
        "id": "bJPONJ7QMuEN",
        "outputId": "39827e53-d40b-4584-8377-085180df7810"
      },
      "execution_count": null,
      "outputs": [
        {
          "output_type": "stream",
          "name": "stdout",
          "text": [
            "<re.Match object; span=(34, 40), match='portal'>\n",
            "portal\n",
            "Start Index: 34\n",
            "stop index 40\n",
            "[Gg]eeks Geeks for geeks\n"
          ]
        }
      ]
    },
    {
      "cell_type": "code",
      "source": [
        "# negation pattern matching\n",
        "print(re.search(r'g[^e]','geeks'))\n",
        "print(re.search(r'g[^e]','good'))"
      ],
      "metadata": {
        "colab": {
          "base_uri": "https://localhost:8080/"
        },
        "id": "LgxDAnT5FpXF",
        "outputId": "3294cbce-494c-4176-d6da-309028f0b7eb"
      },
      "execution_count": null,
      "outputs": [
        {
          "output_type": "stream",
          "name": "stdout",
          "text": [
            "None\n",
            "<re.Match object; span=(0, 2), match='go'>\n"
          ]
        }
      ]
    },
    {
      "cell_type": "code",
      "source": [
        "print(re.search(r'\\bgeeks\\b','geeks for apple')) #start and end with"
      ],
      "metadata": {
        "colab": {
          "base_uri": "https://localhost:8080/"
        },
        "id": "MiCu_EbOJ-kk",
        "outputId": "2a36c58e-c05b-48df-a67e-7a0a646ace31"
      },
      "execution_count": null,
      "outputs": [
        {
          "output_type": "stream",
          "name": "stdout",
          "text": [
            "<re.Match object; span=(0, 5), match='geeks'>\n"
          ]
        }
      ]
    },
    {
      "cell_type": "code",
      "source": [
        "print(re.search(r'p.th.n','python'))# any one character is allowed in place of (.)"
      ],
      "metadata": {
        "colab": {
          "base_uri": "https://localhost:8080/"
        },
        "id": "ZFiz9i7sNHZL",
        "outputId": "6f8339d4-593c-4add-87ff-49dc1bf3cdcb"
      },
      "execution_count": null,
      "outputs": [
        {
          "output_type": "stream",
          "name": "stdout",
          "text": [
            "<re.Match object; span=(0, 6), match='python'>\n"
          ]
        }
      ]
    },
    {
      "cell_type": "code",
      "source": [
        "# using lookahead to match negations\n",
        "print(re.search(r'n[^e]','Pythone'))\n",
        "print(re.search(r'n[^e]','pythont'))\n",
        "print(re.search(r'n[?!e]','Pythone'))#its different from negatiion and prints even if the contetnt is present or not after n (may or may not situation)\n",
        "print(re.search(r'n[?=e]','pyhton'))#should be necessarily present situation\n",
        "print(re.search(r'n[?=e]','pythone'))"
      ],
      "metadata": {
        "colab": {
          "base_uri": "https://localhost:8080/"
        },
        "id": "ebFM-ljoNHRz",
        "outputId": "93195f4c-325f-4888-fcd4-49aa0ee27d55"
      },
      "execution_count": null,
      "outputs": [
        {
          "output_type": "stream",
          "name": "stdout",
          "text": [
            "None\n",
            "<re.Match object; span=(5, 7), match='nt'>\n",
            "<re.Match object; span=(5, 7), match='ne'>\n",
            "None\n",
            "<re.Match object; span=(5, 7), match='ne'>\n"
          ]
        }
      ]
    },
    {
      "cell_type": "code",
      "source": [
        "li=[1,2,'geeks',3,4,5]\n",
        "li.remove('geeks')\n",
        "li.remove(4)\n",
        "print(li)"
      ],
      "metadata": {
        "id": "RR9ZVm4ydzYH",
        "colab": {
          "base_uri": "https://localhost:8080/"
        },
        "outputId": "f974c4d4-e36e-4aca-e68a-a1e10e6c0655"
      },
      "execution_count": null,
      "outputs": [
        {
          "output_type": "stream",
          "name": "stdout",
          "text": [
            "[1, 2, 3, 5]\n"
          ]
        }
      ]
    },
    {
      "cell_type": "code",
      "source": [
        "# Python function to check if number is Prime\n",
        "from math import sqrt\n",
        "def Prime(num,itr):\n",
        "  if itr==1:\n",
        "    return True\n",
        "  if num%itr==0:\n",
        "    return False\n",
        "  if Prime(num,itr-1)==False:\n",
        "    return False\n",
        "  return True\n",
        "num=int(input(\"Enter number\"))\n",
        "itr=int(sqrt(num)+1)\n",
        "print(Prime(num,itr))"
      ],
      "metadata": {
        "colab": {
          "base_uri": "https://localhost:8080/"
        },
        "id": "KQlYIkMvWGMW",
        "outputId": "10f8d607-84db-4d06-abc6-e903993d072a"
      },
      "execution_count": null,
      "outputs": [
        {
          "output_type": "stream",
          "name": "stdout",
          "text": [
            "Enter number1\n",
            "True\n"
          ]
        }
      ]
    },
    {
      "cell_type": "code",
      "source": [
        "def isSubsetSum(arr, n, sum):\n",
        "\t# Base Cases\n",
        "\tif sum == 0:\n",
        "\t\treturn True\n",
        "\tif n == 0 and sum != 0:\n",
        "\t\treturn False\n",
        "\n",
        "\t# If last element is greater than sum, then\n",
        "\t# ignore it\n",
        "\tif arr[n-1] > sum:\n",
        "\t\treturn isSubsetSum(arr, n-1, sum)\n",
        "\n",
        "\t''' else, check if sum can be obtained by any of\n",
        "\tthe following\n",
        "\t(a) including the last element\n",
        "\t(b) excluding the last element'''\n",
        "\n",
        "\treturn isSubsetSum(arr, n-1, sum) or isSubsetSum(arr, n-1, sum-arr[n-1])\n",
        "\n",
        "# Returns true if arr[] can be partitioned in two\n",
        "# subsets of equal sum, otherwise false\n",
        "\n",
        "\n",
        "def findPartion(arr, n):\n",
        "\t# Calculate sum of the elements in array\n",
        "\tsum = 0\n",
        "\tfor i in range(0, n):\n",
        "\t\tsum += arr[i]\n",
        "\t# If sum is odd, there cannot be two subsets\n",
        "\t# with equal sum\n",
        "\tif sum % 2 != 0:\n",
        "\t\treturn False\n",
        "\n",
        "\t# Find if there is subset with sum equal to\n",
        "\t# half of total sum\n",
        "\treturn isSubsetSum(arr, n, sum // 2)\n",
        "\n",
        "\n",
        "# Driver code\n",
        "if __name__ == '__main__':\n",
        "    arr = [3, 1, 5, 9, 12]\n",
        "n = len(arr)\n",
        "\n",
        "# Function call\n",
        "if findPartion(arr, n) == True:\n",
        "\tprint(\"Can be divided into two subsets of equal sum\")\n",
        "else:\n",
        "\tprint(\"Can not be divided into two subsets of equal sum\")\n",
        "\n",
        "# This code is contributed by shreyanshi_arun.\n"
      ],
      "metadata": {
        "colab": {
          "base_uri": "https://localhost:8080/"
        },
        "id": "4Cb5s9wCpyhe",
        "outputId": "8a53c8a0-6533-4fa2-9429-c2625ad8e36a"
      },
      "execution_count": null,
      "outputs": [
        {
          "output_type": "stream",
          "name": "stdout",
          "text": [
            "Can be divided into two subsets of equal sum\n"
          ]
        }
      ]
    },
    {
      "cell_type": "code",
      "source": [
        "# code to get index value along with element froma  a list using enumerate\n",
        "\n",
        "li=[1,2,3,4,5]\n",
        "for index, value in enumerate(li):\n",
        "  print(index,value)"
      ],
      "metadata": {
        "colab": {
          "base_uri": "https://localhost:8080/"
        },
        "id": "kyjZ-grQfZiM",
        "outputId": "a261f293-966f-4160-dda3-e0d594353f2c"
      },
      "execution_count": null,
      "outputs": [
        {
          "output_type": "stream",
          "name": "stdout",
          "text": [
            "0 1\n",
            "1 2\n",
            "2 3\n",
            "3 4\n",
            "4 5\n"
          ]
        }
      ]
    },
    {
      "cell_type": "code",
      "source": [
        "# to check if list contains duplicates using any\n",
        "li=[1,2,3,4,5,5]\n",
        "result=any(item in li for item in  li )\n",
        "print('Dulicates?'+ str(result))"
      ],
      "metadata": {
        "colab": {
          "base_uri": "https://localhost:8080/"
        },
        "id": "GvSKoQNku0Cx",
        "outputId": "b9b47c93-0feb-41ba-d91e-4f386ba41184"
      },
      "execution_count": null,
      "outputs": [
        {
          "output_type": "stream",
          "name": "stdout",
          "text": [
            "Dulicates?True\n"
          ]
        }
      ]
    },
    {
      "cell_type": "code",
      "source": [
        "#counting the number of occurance\n",
        "li=[1,2,3,4,4,5]\n",
        "cnt=li.count(4)\n",
        "print(cnt)"
      ],
      "metadata": {
        "colab": {
          "base_uri": "https://localhost:8080/"
        },
        "id": "qwjmKNmZweJk",
        "outputId": "e93f0fc6-6450-4e02-bda2-b1c23e3d2308"
      },
      "execution_count": null,
      "outputs": [
        {
          "output_type": "stream",
          "name": "stdout",
          "text": [
            "2\n"
          ]
        }
      ]
    },
    {
      "cell_type": "code",
      "source": [
        "# using find operation\n",
        "li=[1,2,3,4,5]\n",
        "y=''.join(list(map(str,li)))\n",
        "y.find('4')"
      ],
      "metadata": {
        "colab": {
          "base_uri": "https://localhost:8080/"
        },
        "id": "tYapFe2vxkv_",
        "outputId": "935cd248-acaf-4d23-b649-1e5c35da9906"
      },
      "execution_count": null,
      "outputs": [
        {
          "output_type": "execute_result",
          "data": {
            "text/plain": [
              "3"
            ]
          },
          "metadata": {},
          "execution_count": 16
        }
      ]
    },
    {
      "cell_type": "code",
      "source": [
        "from collections import Counter\n",
        "li=[10,10,20,20,20,40,50]\n",
        "frequency=Counter(li)\n",
        "if frequency[30]>0:\n",
        "  print(\"True\")\n",
        "else: print(\"False\")\n",
        "print(frequency[20])\n",
        "print(frequency[30])"
      ],
      "metadata": {
        "colab": {
          "base_uri": "https://localhost:8080/"
        },
        "id": "rFVkDzVG0a7l",
        "outputId": "449874a7-795e-4139-8f45-f90dc380dd60"
      },
      "execution_count": null,
      "outputs": [
        {
          "output_type": "stream",
          "name": "stdout",
          "text": [
            "False\n",
            "3\n",
            "0\n"
          ]
        }
      ]
    },
    {
      "cell_type": "code",
      "source": [
        "li=[1,2,3,4]\n",
        "print(li)\n",
        "while(len(li)!=0):\n",
        "  li.pop()\n",
        "print(\"new li\", list(map(str,li)))"
      ],
      "metadata": {
        "colab": {
          "base_uri": "https://localhost:8080/"
        },
        "id": "HIzvylel4jzK",
        "outputId": "d9e70507-ef26-4ca8-f1d3-51233910337e"
      },
      "execution_count": null,
      "outputs": [
        {
          "output_type": "stream",
          "name": "stdout",
          "text": [
            "[1, 2, 3, 4]\n",
            "new li []\n"
          ]
        }
      ]
    },
    {
      "cell_type": "code",
      "source": [
        "li=[1,2,3,4,5]\n",
        "un=[2]\n",
        "lis=[ele for ele in li if ele not in un]\n",
        "print(lis)"
      ],
      "metadata": {
        "colab": {
          "base_uri": "https://localhost:8080/"
        },
        "id": "hF8zFPYhQojK",
        "outputId": "4f989af6-1c16-4baa-9a1a-213aff5bdff1"
      },
      "execution_count": null,
      "outputs": [
        {
          "output_type": "stream",
          "name": "stdout",
          "text": [
            "[1, 3, 4, 5]\n"
          ]
        }
      ]
    },
    {
      "cell_type": "code",
      "source": [
        "li=[1,2,3,4,5]\n",
        "ele=5\n",
        "if ele in  li:\n",
        "  print('present')\n",
        "else: print(\"not present\")"
      ],
      "metadata": {
        "colab": {
          "base_uri": "https://localhost:8080/"
        },
        "id": "u5RkEkKNtoVg",
        "outputId": "7a0c51e6-ae64-49cd-9708-da487333899e"
      },
      "execution_count": null,
      "outputs": [
        {
          "output_type": "stream",
          "name": "stdout",
          "text": [
            "present\n"
          ]
        }
      ]
    },
    {
      "cell_type": "code",
      "source": [
        "x=int(input(\"enter\"))"
      ],
      "metadata": {
        "colab": {
          "base_uri": "https://localhost:8080/"
        },
        "id": "i0O17Gqi6HZU",
        "outputId": "a70e8e8f-6396-43e1-ee9d-13b7e7cda73a"
      },
      "execution_count": null,
      "outputs": [
        {
          "name": "stdout",
          "output_type": "stream",
          "text": [
            "enter2\n"
          ]
        }
      ]
    },
    {
      "cell_type": "code",
      "source": [
        "# arbitrary keywords for list of arguments\n",
        "def myfun1(*x):\n",
        "  for i in x:\n",
        "    print(i)\n",
        "myfun1('Geeks','for','geeks')"
      ],
      "metadata": {
        "colab": {
          "base_uri": "https://localhost:8080/"
        },
        "id": "sp5NTiJBAuKZ",
        "outputId": "819dc857-7045-4982-f043-9111efe36dbc"
      },
      "execution_count": null,
      "outputs": [
        {
          "output_type": "stream",
          "name": "stdout",
          "text": [
            "Geeks\n",
            "for\n",
            "geeks\n"
          ]
        }
      ]
    },
    {
      "cell_type": "code",
      "source": [
        "#arbitrary keywords for dicitionary of argumentsa\n",
        "def fun2(**dictionary):\n",
        "  for key,value in dictionary.items():\n",
        "    print('%s is %s'%(key,value))\n",
        "fun2(first='Rice',second='rajma', third='Curd')# numbers not allowed for  naming values\n"
      ],
      "metadata": {
        "colab": {
          "base_uri": "https://localhost:8080/"
        },
        "id": "qGXeVFplBsKn",
        "outputId": "25a87ba1-1a51-4b6f-e10e-74d343d0cbd8"
      },
      "execution_count": null,
      "outputs": [
        {
          "output_type": "stream",
          "name": "stdout",
          "text": [
            "first is Rice\n",
            "second is rajma\n",
            "third is Curd\n"
          ]
        }
      ]
    }
  ]
}